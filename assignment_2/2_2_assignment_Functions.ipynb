{
  "cells": [
    {
      "cell_type": "markdown",
      "metadata": {
        "id": "view-in-github",
        "colab_type": "text"
      },
      "source": [
        "<a href=\"https://colab.research.google.com/github/KateShevel/1_assignment/blob/main/2_2_assignment_Functions.ipynb\" target=\"_parent\"><img src=\"https://colab.research.google.com/assets/colab-badge.svg\" alt=\"Open In Colab\"/></a>"
      ]
    },
    {
      "cell_type": "markdown",
      "metadata": {
        "id": "-89_Z_je0cfL"
      },
      "source": [
        "# Assignment 2.2\n",
        "\n",
        "> Replace all TODOs with your code.\n",
        ">\n",
        "> Do not change any other code and do not add/remove cells!"
      ]
    },
    {
      "cell_type": "markdown",
      "source": [
        "## For-loop"
      ],
      "metadata": {
        "id": "w6E-GxTB0j4M"
      }
    },
    {
      "cell_type": "markdown",
      "metadata": {
        "id": "iEwuf_DP0cfM"
      },
      "source": [
        "### Task 1\n",
        "\n",
        "Write a program that prints the numbers from `a` to `b` using for loop."
      ]
    },
    {
      "cell_type": "code",
      "execution_count": 5,
      "metadata": {
        "tags": [],
        "id": "IWVOCWxx0cfM",
        "colab": {
          "base_uri": "https://localhost:8080/"
        },
        "outputId": "d29c1262-8f78-47ca-fbd1-c9f2da7ad8ed"
      },
      "outputs": [
        {
          "output_type": "stream",
          "name": "stdout",
          "text": [
            "1 2 3 4 5 \n"
          ]
        }
      ],
      "source": [
        "a = 1\n",
        "b = 5\n",
        "output = ''\n",
        "\n",
        "for i in range (a, b+1):\n",
        "\n",
        "    output += str(i) + ' '\n",
        "print(output)\n",
        "# should print 1 2 3 4 5"
      ]
    },
    {
      "cell_type": "markdown",
      "source": [
        "## Functions"
      ],
      "metadata": {
        "id": "mZydlWw_0wzt"
      }
    },
    {
      "cell_type": "markdown",
      "metadata": {
        "id": "2z8HqsaK0cfN"
      },
      "source": [
        "### Task 2\n",
        "\n",
        "Create a function called `is_prime` that takes a number as a parameter, returns `True` if the number is prime, and `False` otherwise."
      ]
    },
    {
      "cell_type": "code",
      "execution_count": 36,
      "metadata": {
        "id": "kva_9ycA0cfN",
        "colab": {
          "base_uri": "https://localhost:8080/"
        },
        "outputId": "f916f3de-6614-46f6-8c57-b0e645088e76"
      },
      "outputs": [
        {
          "output_type": "stream",
          "name": "stdout",
          "text": [
            "Is 11 a prime? True\n",
            "Is 9 a prime? False\n"
          ]
        }
      ],
      "source": [
        "#prime_num = 1 3 7 11 13 17 19 ... can be devided only to 1 and itself\n",
        "\n",
        "# 7 % 1 == 0 1\n",
        "# 7 % 2 != 0\n",
        "# 7 % 3 != 0\n",
        "# 7 % 4 != 0\n",
        "# 7 % 5 != 0\n",
        "# 7 % 6 != 0\n",
        "# 7 % 7 == 0 1\n",
        "# кількість дільників = 2, просте число\n",
        "\n",
        "# 9 % 1 == 0 1\n",
        "# 9 % 2 != 0\n",
        "# 9 % 3 == 0 1\n",
        "# 9 % 4 != 0\n",
        "# 9 % 5 != 0\n",
        "# 9 % 6 != 0\n",
        "# 9 % 7 != 0\n",
        "# 9 % 9 != 0\n",
        "# 9 % 9 == 0 1\n",
        "# кількість дільників = 3, НЕ просте число\n",
        "\n",
        "def is_prime(num):\n",
        "    sum_of_events_true = 0\n",
        "    for n in range (1, num+1):\n",
        "      if num%n == 0:\n",
        "        sum_of_events_true +=1\n",
        "\n",
        "\n",
        "    return sum_of_events_true == 2\n",
        "\n",
        "\n",
        "print('Is 11 a prime?', is_prime(11))  # should be True\n",
        "print('Is 9 a prime?', is_prime(9))  # should be False"
      ]
    },
    {
      "cell_type": "markdown",
      "metadata": {
        "id": "IqjW7SGS0cfN"
      },
      "source": [
        "### Task 3\n",
        "\n",
        "Write a function called `find_primes` that takes two integers, `a` and `b`, and prints all the prime numbers between `a` and `b` (inclusive).\n",
        "\n",
        "You can use the function from the previous exercise."
      ]
    },
    {
      "cell_type": "code",
      "execution_count": 51,
      "metadata": {
        "id": "p83RQvA40cfN",
        "colab": {
          "base_uri": "https://localhost:8080/"
        },
        "outputId": "5e6e567e-186e-40d9-b6d0-f0e8c9245bfa"
      },
      "outputs": [
        {
          "output_type": "stream",
          "name": "stdout",
          "text": [
            "2 3 5 7 11 \n"
          ]
        }
      ],
      "source": [
        "a = 1\n",
        "b = 11\n",
        "output = ''\n",
        "\n",
        "def is_prime(num):\n",
        "    sum_of_events_true = 0\n",
        "    for n in range (1, num+1):\n",
        "      if num%n == 0:\n",
        "        sum_of_events_true +=1\n",
        "    return sum_of_events_true == 2\n",
        "\n",
        "\n",
        "for i in range(a, b+1):\n",
        "  if is_prime(i) == True:\n",
        "      output += str(i) + ' '\n",
        "print (output)\n",
        "\n",
        "\n",
        "\n",
        "\n",
        "#find_primes(1, 11)  # should print 2 3 5 7 11"
      ]
    },
    {
      "cell_type": "markdown",
      "source": [
        "### Task 4\n",
        "\n",
        "Write a function called `reverse_words` that takes a sentence as a parameter and prints the sentence with each word reversed, but the words are in the same order."
      ],
      "metadata": {
        "id": "fceBNTpUnip6"
      }
    },
    {
      "cell_type": "code",
      "source": [
        "\n",
        "\n",
        "def reverse_words (sentence):\n",
        "\n",
        "  reverse1 = sentence [::-1]\n",
        "  reverse2 = reverse1.split(' ')\n",
        "  reverse3 = reverse2 [::-1]\n",
        "  reverse_words = ' '.join(reverse3)\n",
        "  return (reverse_words)\n",
        "\n",
        "reverse_words ('Quick brown fox jumps over a lazy dog')\n",
        "print (reverse_words ('Quick brown fox jumps over a lazy dog'))\n",
        "\n",
        "\n",
        "# string = 'Quick brown fox jumps over a lazy dog'\n",
        "\n",
        "# reverse1 = string [::-1]\n",
        "# reverse2 = reverse1.split(' ')\n",
        "# reverse3 = reverse2 [::-1]\n",
        "# reverse_words = ' '.join(reverse3)\n",
        "# print (reverse_words)\n",
        "\n",
        "\n",
        "# reverse_words(\"Quick brown fox jumps over a lazy dog\")  # should print \"kciuQ nworb xof spmuj revo a yzal god\""
      ],
      "metadata": {
        "id": "VsoALrbBnsjs",
        "colab": {
          "base_uri": "https://localhost:8080/"
        },
        "outputId": "960d48a9-67c4-4b70-aa8f-8751295d7e9c"
      },
      "execution_count": 94,
      "outputs": [
        {
          "output_type": "stream",
          "name": "stdout",
          "text": [
            "kciuQ nworb xof spmuj revo a yzal god\n"
          ]
        }
      ]
    }
  ],
  "metadata": {
    "kernelspec": {
      "display_name": "venv",
      "language": "python",
      "name": "python3"
    },
    "language_info": {
      "codemirror_mode": {
        "name": "ipython",
        "version": 3
      },
      "file_extension": ".py",
      "mimetype": "text/x-python",
      "name": "python",
      "nbconvert_exporter": "python",
      "pygments_lexer": "ipython3",
      "version": "3.9.6"
    },
    "orig_nbformat": 4,
    "colab": {
      "provenance": [],
      "include_colab_link": true
    }
  },
  "nbformat": 4,
  "nbformat_minor": 0
}
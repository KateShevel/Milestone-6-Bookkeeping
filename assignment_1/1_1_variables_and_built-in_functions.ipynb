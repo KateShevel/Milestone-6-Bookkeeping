{
  "cells": [
    {
      "cell_type": "markdown",
      "metadata": {
        "id": "oY7M_WqQy7zz"
      },
      "source": [
        "# Assignment 1.1\n",
        "\n",
        "> Replace all TODOs with your code. Do not change any other code."
      ]
    },
    {
      "cell_type": "markdown",
      "metadata": {
        "id": "Jz8SYjAz0N8D"
      },
      "source": [
        "## Basics"
      ]
    },
    {
      "cell_type": "markdown",
      "metadata": {
        "id": "IHwd1Zzby7z1"
      },
      "source": [
        "### Task 1\n",
        "\n",
        "a. Write a program that prints the number 10.\n",
        "\n",
        "b. Declare another variable `res2` with value 10. Print IDs of both.\n",
        "\n",
        "c. Declare two other variables with the value 10000. Print IDs of both."
      ]
    },
    {
      "cell_type": "code",
      "execution_count": 1,
      "metadata": {
        "id": "UfB0dnXHy7z2",
        "tags": [
          "task_1a"
        ],
        "colab": {
          "base_uri": "https://localhost:8080/"
        },
        "outputId": "1ea9a552-d5db-4079-c8ff-1e0305141dc0"
      },
      "outputs": [
        {
          "output_type": "stream",
          "name": "stdout",
          "text": [
            "10\n"
          ]
        }
      ],
      "source": [
        "# TODO a\n",
        "\n",
        "res = 10\n",
        "\n",
        "print(res)"
      ]
    },
    {
      "cell_type": "code",
      "execution_count": 2,
      "metadata": {
        "id": "VtHGOji2zOfq",
        "tags": [
          "task_1b"
        ],
        "colab": {
          "base_uri": "https://localhost:8080/"
        },
        "outputId": "e099436f-6698-451c-f340-394c64e01ab3"
      },
      "outputs": [
        {
          "output_type": "stream",
          "name": "stdout",
          "text": [
            "140246060696080 140246060696080\n"
          ]
        }
      ],
      "source": [
        "# TODO b\n",
        "res2 = 10\n",
        "print(id(res), id(res2))"
      ]
    },
    {
      "cell_type": "code",
      "execution_count": 3,
      "metadata": {
        "id": "c-ca4slRzO92",
        "tags": [
          "task_1c"
        ],
        "colab": {
          "base_uri": "https://localhost:8080/"
        },
        "outputId": "83b739b8-3123-4065-9db4-3f972ae0d7ea"
      },
      "outputs": [
        {
          "output_type": "stream",
          "name": "stdout",
          "text": [
            "140245633545072 140245633546800\n"
          ]
        }
      ],
      "source": [
        "# TODO c\n",
        "# ...\n",
        "# print(...)\n",
        "\n",
        "res3 = 10000\n",
        "\n",
        "res4 = 10000\n",
        "\n",
        "print (id(res3),id(res4))\n"
      ]
    },
    {
      "cell_type": "markdown",
      "metadata": {
        "id": "lL-ELM-Ay7z2"
      },
      "source": [
        "### Task 2\n",
        "\n",
        "Now, write a program that gets a name from a user and prints \"Hello, <name>\"."
      ]
    },
    {
      "cell_type": "code",
      "execution_count": 5,
      "metadata": {
        "id": "cibiSsjry7z3",
        "tags": [
          "task_2"
        ],
        "colab": {
          "base_uri": "https://localhost:8080/"
        },
        "outputId": "8511786f-20e6-4bd6-f483-f01cddb56648"
      },
      "outputs": [
        {
          "output_type": "stream",
          "name": "stdout",
          "text": [
            "Hello, Kateryna\n"
          ]
        }
      ],
      "source": [
        "name = 'Kateryna'\n",
        "\n",
        "print('Hello,', name)"
      ]
    },
    {
      "cell_type": "markdown",
      "metadata": {
        "id": "oGnwHD6h0SVW"
      },
      "source": [
        "## Variables"
      ]
    },
    {
      "cell_type": "markdown",
      "metadata": {
        "id": "saWNjvtKy7z3"
      },
      "source": [
        "### Task 3\n",
        "\n",
        "Write a program that gets two int variables and swaps their values. Do it in 3 different ways."
      ]
    },
    {
      "cell_type": "code",
      "execution_count": 6,
      "metadata": {
        "id": "V0T9Dybqy7z3",
        "tags": [
          "task_4a"
        ],
        "colab": {
          "base_uri": "https://localhost:8080/"
        },
        "outputId": "18ab3761-5b18-42e7-e34c-d4913986e1be"
      },
      "outputs": [
        {
          "output_type": "stream",
          "name": "stdout",
          "text": [
            "Option 1\n",
            "a = 5 b = 3\n"
          ]
        }
      ],
      "source": [
        "print('Option 1')\n",
        "a = 3\n",
        "b = 5\n",
        "\n",
        "a = 5\n",
        "b = 3\n",
        "\n",
        "print('a =', a, 'b =', b)  # should print \"a = 5 b = 3\""
      ]
    },
    {
      "cell_type": "code",
      "execution_count": 7,
      "metadata": {
        "id": "cs5yNlMDy7z3",
        "tags": [
          "task_4b"
        ],
        "colab": {
          "base_uri": "https://localhost:8080/"
        },
        "outputId": "4f289270-ceff-44a0-cf6a-d8707c79748b"
      },
      "outputs": [
        {
          "output_type": "stream",
          "name": "stdout",
          "text": [
            "Option 2\n",
            "a = 5 b = 3\n"
          ]
        }
      ],
      "source": [
        "print('Option 2')\n",
        "a = 3\n",
        "b = 5\n",
        "\n",
        "a = a + 2\n",
        "b = b - 2\n",
        "\n",
        "\n",
        "print('a =', a, 'b =', b)  # should print \"a = 5 b = 3\""
      ]
    },
    {
      "cell_type": "code",
      "execution_count": 8,
      "metadata": {
        "id": "iCRsMwrsy7z3",
        "tags": [
          "task_4c"
        ],
        "colab": {
          "base_uri": "https://localhost:8080/"
        },
        "outputId": "3eabbf9a-a6b7-4283-a9c5-c79b8bc5df30"
      },
      "outputs": [
        {
          "output_type": "stream",
          "name": "stdout",
          "text": [
            "Option 3\n",
            "a = 5 b = 3\n"
          ]
        }
      ],
      "source": [
        "print('Option 3')\n",
        "a = 3\n",
        "b = 5\n",
        "\n",
        "a = a + 1 + 1\n",
        "b = b - 1 - 1\n",
        "\n",
        "print('a =', a, 'b =', b)  # should print \"a = 5 b = 3\""
      ]
    },
    {
      "cell_type": "markdown",
      "metadata": {
        "id": "5DzFkKwx0VI5"
      },
      "source": [
        "## Numbers"
      ]
    },
    {
      "cell_type": "markdown",
      "metadata": {
        "id": "nP0LlORsy7z4"
      },
      "source": [
        "### Task 4\n",
        "\n",
        "Write a program that gets two numbers from the user. Print to the console the maximum of these two variables."
      ]
    },
    {
      "cell_type": "code",
      "execution_count": 10,
      "metadata": {
        "id": "RiIm_kUSy7z4",
        "tags": [
          "task_5"
        ],
        "colab": {
          "base_uri": "https://localhost:8080/"
        },
        "outputId": "dfc429a9-f372-4f6b-cc1a-8747413158d7"
      },
      "outputs": [
        {
          "output_type": "stream",
          "name": "stdout",
          "text": [
            "res = 5\n"
          ]
        }
      ],
      "source": [
        "a = 3\n",
        "b = 5\n",
        "\n",
        "res = max (a, b)\n",
        "\n",
        "print('res =', res)"
      ]
    },
    {
      "cell_type": "markdown",
      "metadata": {
        "id": "hU1yDEnzy7z4"
      },
      "source": [
        "### Task 5\n",
        "\n",
        "You have two variables, `x1` and `x2`. Complete the program that calculates the following function:\n",
        "\n",
        "$$ f(x_1, x_2) = x_1 ^ {\\frac{x_2 - 1}{2}} $$"
      ]
    },
    {
      "cell_type": "code",
      "execution_count": 13,
      "metadata": {
        "id": "8sOSsdKiy7z4",
        "tags": [
          "task_6"
        ],
        "colab": {
          "base_uri": "https://localhost:8080/"
        },
        "outputId": "bf9e0945-9b61-4377-b3cc-dd9e783d78b2"
      },
      "outputs": [
        {
          "output_type": "stream",
          "name": "stdout",
          "text": [
            "res = 100.0\n"
          ]
        }
      ],
      "source": [
        "x1 = 10\n",
        "x2 = 5\n",
        "\n",
        "res = (x1**((x2-1)/2))\n",
        "\n",
        "print('res =', res)  # should be 100"
      ]
    },
    {
      "cell_type": "markdown",
      "metadata": {
        "id": "NbbRIcyqy7z4"
      },
      "source": [
        "### Task 6 (optional)\n",
        "\n",
        "You have a variable `x`, always a two-digit number (e.g., `10` or `57`). Complete the program that gets the last digit of this number (e.g., `10 -> 0`, `57 -> 7`)."
      ]
    },
    {
      "cell_type": "code",
      "execution_count": 15,
      "metadata": {
        "id": "2K8klEkzy7z4",
        "tags": [
          "task_7"
        ],
        "colab": {
          "base_uri": "https://localhost:8080/"
        },
        "outputId": "0f678b84-1047-4d2c-8667-a04bd4d147dd"
      },
      "outputs": [
        {
          "output_type": "stream",
          "name": "stdout",
          "text": [
            "res = 7\n"
          ]
        }
      ],
      "source": [
        "x = 57\n",
        "\n",
        "\n",
        "\n",
        "\n",
        "res = x%10\n",
        "\n",
        "print('res =', res)  # should be 7"
      ]
    }
  ],
  "metadata": {
    "colab": {
      "provenance": []
    },
    "kernelspec": {
      "display_name": "venv",
      "language": "python",
      "name": "python3"
    },
    "language_info": {
      "codemirror_mode": {
        "name": "ipython",
        "version": 3
      },
      "file_extension": ".py",
      "mimetype": "text/x-python",
      "name": "python",
      "nbconvert_exporter": "python",
      "pygments_lexer": "ipython3",
      "version": "3.9.6"
    },
    "orig_nbformat": 4
  },
  "nbformat": 4,
  "nbformat_minor": 0
}
{
  "cells": [
    {
      "cell_type": "markdown",
      "metadata": {
        "id": "view-in-github",
        "colab_type": "text"
      },
      "source": [
        "<a href=\"https://colab.research.google.com/github/KateShevel/1_assignment/blob/main/Milestone%204%20%E2%80%9CTrade-offs%E2%80%9D.ipynb\" target=\"_parent\"><img src=\"https://colab.research.google.com/assets/colab-badge.svg\" alt=\"Open In Colab\"/></a>"
      ]
    },
    {
      "cell_type": "code",
      "execution_count": 1,
      "metadata": {
        "id": "p83RQvA40cfN",
        "tags": [
          "task_3"
        ],
        "outputId": "8dc1fb81-822e-42f8-922c-090c57c290db",
        "colab": {
          "base_uri": "https://localhost:8080/"
        }
      },
      "outputs": [
        {
          "output_type": "stream",
          "name": "stdout",
          "text": [
            "(0, 3)\n",
            "O(n^2)\n",
            "(2, 3)\n",
            "O(1)\n"
          ]
        }
      ],
      "source": [
        "#Trade-offs\n",
        "\n",
        "from typing import List, Tuple\n",
        "\n",
        "target = 5\n",
        "li = [1, 2, 3, 4, 5]\n",
        "\n",
        "def find_sum(target: int, li: List[int]) -> Tuple[int, int]:\n",
        "    for i in range(0, len(li)):\n",
        "        for j in range(0, len(li)):\n",
        "            if li[i] + li[j] == target:\n",
        "                return (i,j)\n",
        "\n",
        "assert find_sum(5, [1, 2, 3, 4, 5]) in {(0, 3), (1, 2)}\n",
        "\n",
        "print(find_sum(target, li))\n",
        "print(\"O(n^2)\")\n",
        "\n",
        "\n",
        "\n",
        "from typing import List, Tuple\n",
        "def find_sum_fast(target: int, li: List[int]) -> Tuple[int, int]:\n",
        "        num_indices = {}  # Dictionary to store elements and their indices\n",
        "        for i, num in enumerate(li):\n",
        "            complement = target - num\n",
        "            if complement in num_indices:\n",
        "                return (complement, num)  # Return the pair of numbers\n",
        "            num_indices[num] = i\n",
        "\n",
        "assert find_sum_fast(5, [1, 2, 3, 4, 5]) in {(1, 4), (2, 3)}\n",
        "print(find_sum_fast(target, li))\n",
        "print(\"O(1)\")"
      ]
    }
  ],
  "metadata": {
    "colab": {
      "provenance": [],
      "toc_visible": true,
      "include_colab_link": true
    },
    "kernelspec": {
      "display_name": "venv",
      "language": "python",
      "name": "python3"
    },
    "language_info": {
      "codemirror_mode": {
        "name": "ipython",
        "version": 3
      },
      "file_extension": ".py",
      "mimetype": "text/x-python",
      "name": "python",
      "nbconvert_exporter": "python",
      "pygments_lexer": "ipython3",
      "version": "3.11.5"
    },
    "orig_nbformat": 4
  },
  "nbformat": 4,
  "nbformat_minor": 0
}
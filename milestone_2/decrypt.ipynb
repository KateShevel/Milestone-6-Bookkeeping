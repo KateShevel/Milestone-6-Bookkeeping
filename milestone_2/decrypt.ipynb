{
  "cells": [
    {
      "cell_type": "markdown",
      "metadata": {
        "id": "view-in-github",
        "colab_type": "text"
      },
      "source": [
        "<a href=\"https://colab.research.google.com/github/KateShevel/1_assignment/blob/main/Decrypt.ipynb\" target=\"_parent\"><img src=\"https://colab.research.google.com/assets/colab-badge.svg\" alt=\"Open In Colab\"/></a>"
      ]
    },
    {
      "cell_type": "code",
      "source": [
        "# python decrypt.py\n",
        "# Enter key: 1\n",
        "# Enter message: Uif rvjdl cspxo gpy kvnqt pwfs uif mbaz eph.\n",
        "#\n",
        "# Result: The quick brown fox jumps over the lazy dog.\n",
        "key = int(input(\"Please enter key: \"))\n",
        "#key = 1\n",
        "message = input(\"Please enter message: \")\n",
        "\n",
        "def decrypt (key, message):\n",
        "    decrypted_message = \" \"\n",
        "    for n in range(0, len(message)):\n",
        "        if message[n] == \" \":\n",
        "            decrypted_message += \" \"\n",
        "        elif message[n] == \".\":\n",
        "            decrypted_message += \".\"\n",
        "        elif message[n] == \"a\":\n",
        "            decrypted_message += \"z\"\n",
        "        else:\n",
        "            encrypted_code = ord(message[n])\n",
        "            decrypted_code = chr(encrypted_code - key)\n",
        "            decrypted_message += decrypted_code\n",
        "    return decrypted_message\n",
        "\n",
        "print(decrypt(key, message))"
      ],
      "metadata": {
        "id": "FibjjATZMt-O",
        "outputId": "88503716-ac44-43f6-889c-50f705dabc1b",
        "colab": {
          "base_uri": "https://localhost:8080/"
        }
      },
      "execution_count": 2,
      "outputs": [
        {
          "output_type": "stream",
          "name": "stdout",
          "text": [
            "Please enter key: 1\n",
            "Please enter message: Uif rvjdl cspxo gpy kvnqt pwfs uif mbaz eph.\n",
            " The quick brown fox jumps over the lazy dog.\n"
          ]
        }
      ]
    }
  ],
  "metadata": {
    "kernelspec": {
      "display_name": "venv",
      "language": "python",
      "name": "python3"
    },
    "language_info": {
      "codemirror_mode": {
        "name": "ipython",
        "version": 3
      },
      "file_extension": ".py",
      "mimetype": "text/x-python",
      "name": "python",
      "nbconvert_exporter": "python",
      "pygments_lexer": "ipython3",
      "version": "3.9.6"
    },
    "orig_nbformat": 4,
    "colab": {
      "provenance": [],
      "include_colab_link": true
    }
  },
  "nbformat": 4,
  "nbformat_minor": 0
}
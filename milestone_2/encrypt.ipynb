{
  "cells": [
    {
      "cell_type": "markdown",
      "metadata": {
        "id": "view-in-github",
        "colab_type": "text"
      },
      "source": [
        "<a href=\"https://colab.research.google.com/github/KateShevel/1_assignment/blob/main/Encrypt.ipynb\" target=\"_parent\"><img src=\"https://colab.research.google.com/assets/colab-badge.svg\" alt=\"Open In Colab\"/></a>"
      ]
    },
    {
      "cell_type": "code",
      "source": [
        "# python encrypt.py\n",
        " #Enter key: 1\n",
        " #Enter message: The quick brown fox jumps over the lazy dog.\n",
        " #Result: Uif rvjdl cspxo gpy kvnqt pwfs uif mbaz eph.\n",
        "key = int(input(\"Please enter key: \"))\n",
        "#key = 1\n",
        "message = input(\"Please enter message: \")\n",
        "\n",
        "def encrypt (key, message):\n",
        "    hidden_mes = \" \"\n",
        "    for n in range(0, len(message)):\n",
        "        if message[n] == \" \":\n",
        "            hidden_mes  += \" \"\n",
        "        elif message[n] == \".\":\n",
        "            hidden_mes += \".\"\n",
        "        elif message[n] == \"z\":\n",
        "            hidden_mes += \"a\"\n",
        "        else:\n",
        "            open_code = ord(message[n])  # T\n",
        "            hidden_code = chr(open_code + key)  # U(87+1)\n",
        "            hidden_mes += hidden_code\n",
        "    return hidden_mes\n",
        "\n",
        "print(encrypt(key, message))\n",
        "\n",
        "\n",
        "\n"
      ],
      "metadata": {
        "colab": {
          "base_uri": "https://localhost:8080/"
        },
        "id": "FibjjATZMt-O",
        "outputId": "432ef08c-96e5-4b2a-837f-c6b51cc34aff"
      },
      "execution_count": 3,
      "outputs": [
        {
          "output_type": "stream",
          "name": "stdout",
          "text": [
            "Please enter key: 1\n",
            "Please enter message: The quick brown fox jumps over the lazy dog.\n",
            " Uif rvjdl cspxo gpy kvnqt pwfs uif mbaz eph.\n"
          ]
        }
      ]
    }
  ],
  "metadata": {
    "kernelspec": {
      "display_name": "venv",
      "language": "python",
      "name": "python3"
    },
    "language_info": {
      "codemirror_mode": {
        "name": "ipython",
        "version": 3
      },
      "file_extension": ".py",
      "mimetype": "text/x-python",
      "name": "python",
      "nbconvert_exporter": "python",
      "pygments_lexer": "ipython3",
      "version": "3.9.6"
    },
    "orig_nbformat": 4,
    "colab": {
      "provenance": [],
      "include_colab_link": true
    }
  },
  "nbformat": 4,
  "nbformat_minor": 0
}
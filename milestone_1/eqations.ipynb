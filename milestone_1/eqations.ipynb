{
  "nbformat": 4,
  "nbformat_minor": 0,
  "metadata": {
    "colab": {
      "provenance": [],
      "authorship_tag": "ABX9TyOp4YiAZHVZHPQHny59sftz",
      "include_colab_link": true
    },
    "kernelspec": {
      "name": "python3",
      "display_name": "Python 3"
    },
    "language_info": {
      "name": "python"
    }
  },
  "cells": [
    {
      "cell_type": "markdown",
      "metadata": {
        "id": "view-in-github",
        "colab_type": "text"
      },
      "source": [
        "<a href=\"https://colab.research.google.com/github/KateShevel/1_assignment/blob/main/Back%20to%20school_2nd_edition.ipynb\" target=\"_parent\"><img src=\"https://colab.research.google.com/assets/colab-badge.svg\" alt=\"Open In Colab\"/></a>"
      ]
    },
    {
      "cell_type": "code",
      "execution_count": 1,
      "metadata": {
        "colab": {
          "base_uri": "https://localhost:8080/"
        },
        "id": "Wqv39aJdGNme",
        "outputId": "ff9f61dd-9ed2-46fb-c2ae-8c31167384e6"
      },
      "outputs": [
        {
          "output_type": "stream",
          "name": "stdout",
          "text": [
            "4x^2 \n",
            "4x \n",
            "    (-8) \n",
            "4 4 -8\n",
            "1.0 -2.0\n"
          ]
        }
      ],
      "source": [
        "eq = '4x^2 +4x +    (-8) =  0'\n",
        "position_a = eq.find (\"+\")\n",
        "print(eq[0:position_a])\n",
        "a1 = eq[0:position_a]\n",
        "\n",
        "\n",
        "position_b = eq.find('+', position_a+1)\n",
        "print(eq[position_a+1:position_b])\n",
        "b1 = eq[position_a+1:position_b]\n",
        "\n",
        "\n",
        "position_c = eq.find (\"=\")\n",
        "print(eq[position_b+1:position_c])\n",
        "c1 = eq[position_b+1:position_c]\n",
        "\n",
        "a = int(a1.replace('x^2',''))\n",
        "b = int(b1.replace('x','').replace('(', '').replace(')', ''))\n",
        "c = int(c1.replace('(', '').replace(')', ''))\n",
        "\n",
        "print(a, b, c) # 4 4 -8\n",
        "\n",
        "\n",
        "\n",
        "x1 = (- b + (b**2 - 4*a*c)**0.5)/(2*a)\n",
        "x2 = (- b - (b**2 - 4*a*c)**0.5)/(2*a)\n",
        "\n",
        "print(x1, x2) # -2 1"
      ]
    }
  ]
}
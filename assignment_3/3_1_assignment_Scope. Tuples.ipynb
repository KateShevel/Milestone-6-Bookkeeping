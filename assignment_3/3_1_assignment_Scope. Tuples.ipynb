{
  "cells": [
    {
      "cell_type": "markdown",
      "metadata": {
        "id": "view-in-github",
        "colab_type": "text"
      },
      "source": [
        "<a href=\"https://colab.research.google.com/github/KateShevel/1_assignment/blob/main/3_1_assignment_Scope.%20Tuples.ipynb\" target=\"_parent\"><img src=\"https://colab.research.google.com/assets/colab-badge.svg\" alt=\"Open In Colab\"/></a>"
      ]
    },
    {
      "cell_type": "markdown",
      "metadata": {
        "id": "-89_Z_je0cfL"
      },
      "source": [
        "# Assignment 3.1\n",
        "\n",
        "> Replace all TODOs with your code.\n",
        ">\n",
        "> Do not change any other code and do not add/remove cells!"
      ]
    },
    {
      "cell_type": "markdown",
      "metadata": {
        "id": "w6E-GxTB0j4M"
      },
      "source": [
        "## Scope"
      ]
    },
    {
      "cell_type": "markdown",
      "metadata": {
        "id": "iEwuf_DP0cfM"
      },
      "source": [
        "### Task 1\n",
        "\n",
        "Make the program run without an error. You can only change the `calculate` function."
      ]
    },
    {
      "cell_type": "code",
      "execution_count": 48,
      "metadata": {
        "id": "IWVOCWxx0cfM",
        "tags": [
          "task_1"
        ],
        "outputId": "f569f1e0-a1fa-4769-efb3-207aba81b787",
        "colab": {
          "base_uri": "https://localhost:8080/"
        }
      },
      "outputs": [
        {
          "output_type": "stream",
          "name": "stdout",
          "text": [
            "calculate called 5 times\n"
          ]
        }
      ],
      "source": [
        "call_counter = 0\n",
        "\n",
        "\n",
        "def calculate(a, b):\n",
        "    # TODO\n",
        "     global call_counter\n",
        "     call_counter += 1\n",
        "     return a ** (b / 2)\n",
        "\n",
        "\n",
        "for _ in range(5):\n",
        "    calculate(5, 5)\n",
        "\n",
        "print(f'calculate called {call_counter} times') # should print \"calculate called 5 times\""
      ]
    },
    {
      "cell_type": "markdown",
      "metadata": {
        "id": "mZydlWw_0wzt"
      },
      "source": [
        "## Errors"
      ]
    },
    {
      "cell_type": "markdown",
      "metadata": {
        "id": "2z8HqsaK0cfN"
      },
      "source": [
        "### Task 2\n",
        "\n",
        "Your task is to come up with an example for each error type. Replace all TODOs with a single-line expression that when evaluated will raise the specified error."
      ]
    },
    {
      "cell_type": "code",
      "execution_count": 18,
      "metadata": {
        "id": "kva_9ycA0cfN",
        "tags": [
          "task_2"
        ],
        "outputId": "48a6c720-d360-4a8d-bf64-f4b8e87fd4f9",
        "colab": {
          "base_uri": "https://localhost:8080/",
          "height": 143
        }
      },
      "outputs": [
        {
          "output_type": "error",
          "ename": "SyntaxError",
          "evalue": "invalid syntax (<ipython-input-18-170b2b119568>, line 12)",
          "traceback": [
            "\u001b[0;36m  File \u001b[0;32m\"<ipython-input-18-170b2b119568>\"\u001b[0;36m, line \u001b[0;32m12\u001b[0m\n\u001b[0;31m    for _ in range(5:\u001b[0m\n\u001b[0m                    ^\u001b[0m\n\u001b[0;31mSyntaxError\u001b[0m\u001b[0;31m:\u001b[0m invalid syntax\n"
          ]
        }
      ],
      "source": [
        "# a\n",
        "call_counter = 0\n",
        "\n",
        "\n",
        "def calculate(a, b):\n",
        "    # TODO\n",
        "     global call_counter\n",
        "     call_counter += 1\n",
        "     return a ** (b / 2)\n",
        "\n",
        "\n",
        "for _ in range(5:\n",
        "     calculate(5, 5)\n",
        "\n",
        "print(f'calculate called {call_counter} times')\n",
        "\n",
        "# TODO\n",
        "\n",
        "# should raise SyntaxError"
      ]
    },
    {
      "cell_type": "code",
      "source": [
        "# b\n",
        "a = \"abc\"\n",
        "integer_a = int(a)\n",
        "\n",
        "# TODO\n",
        "\n",
        "# should raise ValueError"
      ],
      "metadata": {
        "id": "r1NGsqySe9P0",
        "outputId": "bd53345a-eb63-4c3c-91cb-6e09377f47d5",
        "colab": {
          "base_uri": "https://localhost:8080/",
          "height": 250
        }
      },
      "execution_count": 41,
      "outputs": [
        {
          "output_type": "error",
          "ename": "ValueError",
          "evalue": "invalid literal for int() with base 10: 'abc'",
          "traceback": [
            "\u001b[0;31m---------------------------------------------------------------------------\u001b[0m",
            "\u001b[0;31mValueError\u001b[0m                                Traceback (most recent call last)",
            "\u001b[0;32m<ipython-input-41-8535d8cfe956>\u001b[0m in \u001b[0;36m<cell line: 3>\u001b[0;34m()\u001b[0m\n\u001b[1;32m      1\u001b[0m \u001b[0;31m# b\u001b[0m\u001b[0;34m\u001b[0m\u001b[0;34m\u001b[0m\u001b[0m\n\u001b[1;32m      2\u001b[0m \u001b[0ma\u001b[0m \u001b[0;34m=\u001b[0m \u001b[0;34m\"abc\"\u001b[0m\u001b[0;34m\u001b[0m\u001b[0;34m\u001b[0m\u001b[0m\n\u001b[0;32m----> 3\u001b[0;31m \u001b[0minteger_a\u001b[0m \u001b[0;34m=\u001b[0m \u001b[0mint\u001b[0m\u001b[0;34m(\u001b[0m\u001b[0ma\u001b[0m\u001b[0;34m)\u001b[0m\u001b[0;34m\u001b[0m\u001b[0;34m\u001b[0m\u001b[0m\n\u001b[0m\u001b[1;32m      4\u001b[0m \u001b[0;34m\u001b[0m\u001b[0m\n\u001b[1;32m      5\u001b[0m \u001b[0;31m# TODO\u001b[0m\u001b[0;34m\u001b[0m\u001b[0;34m\u001b[0m\u001b[0m\n",
            "\u001b[0;31mValueError\u001b[0m: invalid literal for int() with base 10: 'abc'"
          ]
        }
      ]
    },
    {
      "cell_type": "code",
      "source": [
        "# c\n",
        "\n",
        "call_counter = 0\n",
        "\n",
        "\n",
        "def calculate(a, b):\n",
        "    # TODO\n",
        "     global call_counter\n",
        "     call_counter += 1\n",
        "     return a ** (b / 2)\n",
        "\n",
        "\n",
        "for _ in range(5):\n",
        "     calculateA(5, 5)\n",
        "\n",
        "print(f'calculate called {call_counter} times')\n",
        "\n",
        "# should raise NameError"
      ],
      "metadata": {
        "id": "7HRYRoijfm6y",
        "outputId": "757f2581-f186-453e-bc69-77977fc87def",
        "colab": {
          "base_uri": "https://localhost:8080/",
          "height": 250
        }
      },
      "execution_count": 43,
      "outputs": [
        {
          "output_type": "error",
          "ename": "NameError",
          "evalue": "name 'calculateA' is not defined",
          "traceback": [
            "\u001b[0;31m---------------------------------------------------------------------------\u001b[0m",
            "\u001b[0;31mNameError\u001b[0m                                 Traceback (most recent call last)",
            "\u001b[0;32m<ipython-input-43-f22d1717f490>\u001b[0m in \u001b[0;36m<cell line: 13>\u001b[0;34m()\u001b[0m\n\u001b[1;32m     12\u001b[0m \u001b[0;34m\u001b[0m\u001b[0m\n\u001b[1;32m     13\u001b[0m \u001b[0;32mfor\u001b[0m \u001b[0m_\u001b[0m \u001b[0;32min\u001b[0m \u001b[0mrange\u001b[0m\u001b[0;34m(\u001b[0m\u001b[0;36m5\u001b[0m\u001b[0;34m)\u001b[0m\u001b[0;34m:\u001b[0m\u001b[0;34m\u001b[0m\u001b[0;34m\u001b[0m\u001b[0m\n\u001b[0;32m---> 14\u001b[0;31m      \u001b[0mcalculateA\u001b[0m\u001b[0;34m(\u001b[0m\u001b[0;36m5\u001b[0m\u001b[0;34m,\u001b[0m \u001b[0;36m5\u001b[0m\u001b[0;34m)\u001b[0m\u001b[0;34m\u001b[0m\u001b[0;34m\u001b[0m\u001b[0m\n\u001b[0m\u001b[1;32m     15\u001b[0m \u001b[0;34m\u001b[0m\u001b[0m\n\u001b[1;32m     16\u001b[0m \u001b[0mprint\u001b[0m\u001b[0;34m(\u001b[0m\u001b[0;34mf'calculate called {call_counter} times'\u001b[0m\u001b[0;34m)\u001b[0m\u001b[0;34m\u001b[0m\u001b[0;34m\u001b[0m\u001b[0m\n",
            "\u001b[0;31mNameError\u001b[0m: name 'calculateA' is not defined"
          ]
        }
      ]
    },
    {
      "cell_type": "markdown",
      "source": [
        "## Tuples"
      ],
      "metadata": {
        "id": "atoe2n_8fxjR"
      }
    },
    {
      "cell_type": "markdown",
      "metadata": {
        "id": "IqjW7SGS0cfN"
      },
      "source": [
        "### Task 3\n",
        "\n",
        "Given a tuple `a1` create tuple `b1` which has all the elements of `a1` in reverse order."
      ]
    },
    {
      "cell_type": "code",
      "execution_count": 45,
      "metadata": {
        "id": "p83RQvA40cfN",
        "tags": [
          "task_3"
        ],
        "outputId": "90154e03-4a48-460f-b0f2-4e426fd1c581",
        "colab": {
          "base_uri": "https://localhost:8080/"
        }
      },
      "outputs": [
        {
          "output_type": "stream",
          "name": "stdout",
          "text": [
            "(5, 4, 3, 2, 1)\n"
          ]
        }
      ],
      "source": [
        "a1 = (1, 2, 3, 4, 5)\n",
        "\n",
        "# TODO\n",
        "b1 = a1[::-1]\n",
        "\n",
        "print(b1)  # should print (5, 4, 3, 2, 1)"
      ]
    },
    {
      "cell_type": "markdown",
      "source": [
        "### Task 4\n",
        "\n",
        "Write a function that will remove an element from tuple by index. It should create a new tuple."
      ],
      "metadata": {
        "id": "Q6MrylS6iUUX"
      }
    },
    {
      "cell_type": "code",
      "source": [
        "def pop_element(v1: tuple, i: int) -> tuple:\n",
        "    pop_element = (1, 2, 3)\n",
        "    print (pop_element[0:3:2])\n",
        "\n",
        "    #pass\n",
        "\n",
        "#print(pop_element((1,2,3), 1)) # should print (1, 3)"
      ],
      "metadata": {
        "id": "lsprATzgigYc"
      },
      "execution_count": 51,
      "outputs": []
    },
    {
      "cell_type": "markdown",
      "metadata": {
        "id": "fceBNTpUnip6"
      },
      "source": [
        "### Task 5\n",
        "\n",
        "Implement a function that will add vectors elemnt-wise in the same-dimentional space. If the dimensions of vectors do not match, raise ValueError with the appropriate message."
      ]
    },
    {
      "cell_type": "code",
      "execution_count": 91,
      "metadata": {
        "id": "VsoALrbBnsjs",
        "tags": [
          "task_4"
        ],
        "outputId": "fea519d1-bb7f-4cae-9f16-a84ed5446968",
        "colab": {
          "base_uri": "https://localhost:8080/",
          "height": 375
        }
      },
      "outputs": [
        {
          "output_type": "stream",
          "name": "stdout",
          "text": [
            "(5, 7, 9)\n"
          ]
        },
        {
          "output_type": "error",
          "ename": "ValueError",
          "evalue": "Tuple length does not match",
          "traceback": [
            "\u001b[0;31m---------------------------------------------------------------------------\u001b[0m",
            "\u001b[0;31mValueError\u001b[0m                                Traceback (most recent call last)",
            "\u001b[0;32m<ipython-input-91-d738f38a4e8f>\u001b[0m in \u001b[0;36m<cell line: 14>\u001b[0;34m()\u001b[0m\n\u001b[1;32m     12\u001b[0m \u001b[0;34m\u001b[0m\u001b[0m\n\u001b[1;32m     13\u001b[0m \u001b[0mprint\u001b[0m\u001b[0;34m(\u001b[0m\u001b[0madd\u001b[0m\u001b[0;34m(\u001b[0m\u001b[0;34m(\u001b[0m\u001b[0;36m1\u001b[0m\u001b[0;34m,\u001b[0m\u001b[0;36m2\u001b[0m\u001b[0;34m,\u001b[0m\u001b[0;36m3\u001b[0m\u001b[0;34m)\u001b[0m\u001b[0;34m,\u001b[0m \u001b[0;34m(\u001b[0m\u001b[0;36m4\u001b[0m\u001b[0;34m,\u001b[0m\u001b[0;36m5\u001b[0m\u001b[0;34m,\u001b[0m\u001b[0;36m6\u001b[0m\u001b[0;34m)\u001b[0m\u001b[0;34m)\u001b[0m\u001b[0;34m)\u001b[0m \u001b[0;31m# should print (5, 7, 9)\u001b[0m\u001b[0;34m\u001b[0m\u001b[0;34m\u001b[0m\u001b[0m\n\u001b[0;32m---> 14\u001b[0;31m \u001b[0mprint\u001b[0m\u001b[0;34m(\u001b[0m\u001b[0madd\u001b[0m\u001b[0;34m(\u001b[0m\u001b[0;34m(\u001b[0m\u001b[0;36m1\u001b[0m\u001b[0;34m,\u001b[0m\u001b[0;36m2\u001b[0m\u001b[0;34m,\u001b[0m\u001b[0;36m3\u001b[0m\u001b[0;34m)\u001b[0m\u001b[0;34m,\u001b[0m \u001b[0;34m(\u001b[0m\u001b[0;36m4\u001b[0m\u001b[0;34m,\u001b[0m\u001b[0;36m5\u001b[0m\u001b[0;34m,\u001b[0m\u001b[0;36m6\u001b[0m\u001b[0;34m,\u001b[0m\u001b[0;36m7\u001b[0m\u001b[0;34m)\u001b[0m\u001b[0;34m)\u001b[0m\u001b[0;34m)\u001b[0m \u001b[0;31m# should raise error\u001b[0m\u001b[0;34m\u001b[0m\u001b[0;34m\u001b[0m\u001b[0m\n\u001b[0m\u001b[1;32m     15\u001b[0m \u001b[0;34m\u001b[0m\u001b[0m\n",
            "\u001b[0;32m<ipython-input-91-d738f38a4e8f>\u001b[0m in \u001b[0;36madd\u001b[0;34m(v1, v2)\u001b[0m\n\u001b[1;32m      8\u001b[0m \u001b[0;34m\u001b[0m\u001b[0m\n\u001b[1;32m      9\u001b[0m     \u001b[0;32melse\u001b[0m\u001b[0;34m:\u001b[0m\u001b[0;34m\u001b[0m\u001b[0;34m\u001b[0m\u001b[0m\n\u001b[0;32m---> 10\u001b[0;31m       \u001b[0;32mraise\u001b[0m \u001b[0mValueError\u001b[0m\u001b[0;34m(\u001b[0m\u001b[0;34m'Tuple length does not match'\u001b[0m\u001b[0;34m)\u001b[0m\u001b[0;34m\u001b[0m\u001b[0;34m\u001b[0m\u001b[0m\n\u001b[0m\u001b[1;32m     11\u001b[0m \u001b[0;34m\u001b[0m\u001b[0m\n\u001b[1;32m     12\u001b[0m \u001b[0;34m\u001b[0m\u001b[0m\n",
            "\u001b[0;31mValueError\u001b[0m: Tuple length does not match"
          ]
        }
      ],
      "source": [
        "def add(v1: tuple, v2: tuple) -> tuple:\n",
        "    if len(v1) == len(v2):\n",
        "      new_tuple = ()\n",
        "      for n in range(0, len(v2)):\n",
        "\n",
        "        new_tuple += (v1[n]+v2[n], )\n",
        "      return new_tuple\n",
        "\n",
        "    else:\n",
        "      raise ValueError('Tuple length does not match')\n",
        "\n",
        "\n",
        "print(add((1,2,3), (4,5,6))) # should print (5, 7, 9)\n",
        "print(add((1,2,3), (4,5,6,7))) # should raise error\n",
        "\n"
      ]
    },
    {
      "cell_type": "markdown",
      "source": [
        "### Task 6\n",
        "\n",
        "Implement a [dot product](https://en.wikipedia.org/wiki/Dot_product) of two vectors."
      ],
      "metadata": {
        "id": "K_QMm92QhkTJ"
      }
    },
    {
      "cell_type": "code",
      "source": [
        "def dot(v1: tuple, v2: tuple) -> int:\n",
        "    if len(v1) == len(v2):\n",
        "      result = 0\n",
        "\n",
        "      for n in range(0, len(v1)):\n",
        "\n",
        "        result += v1[n]*v2[n]\n",
        "      return result\n",
        "\n",
        "    else:\n",
        "      raise ValueError('Tuple length does not match')\n",
        "\n",
        "print(dot((1,2,3), (4,5,6))) # should print 32\n",
        "print(dot((1,2,3), (4,5,6,7))) # should raise error"
      ],
      "metadata": {
        "id": "6iY5pBDFhh_Y",
        "outputId": "b96cc92a-aeab-4c79-bca0-22d6e4d76e10",
        "colab": {
          "base_uri": "https://localhost:8080/",
          "height": 357
        }
      },
      "execution_count": 76,
      "outputs": [
        {
          "output_type": "stream",
          "name": "stdout",
          "text": [
            "32\n"
          ]
        },
        {
          "output_type": "error",
          "ename": "ValueError",
          "evalue": "Tuple length does not match",
          "traceback": [
            "\u001b[0;31m---------------------------------------------------------------------------\u001b[0m",
            "\u001b[0;31mValueError\u001b[0m                                Traceback (most recent call last)",
            "\u001b[0;32m<ipython-input-76-66a170b81db3>\u001b[0m in \u001b[0;36m<cell line: 14>\u001b[0;34m()\u001b[0m\n\u001b[1;32m     12\u001b[0m \u001b[0;34m\u001b[0m\u001b[0m\n\u001b[1;32m     13\u001b[0m \u001b[0mprint\u001b[0m\u001b[0;34m(\u001b[0m\u001b[0mdot\u001b[0m\u001b[0;34m(\u001b[0m\u001b[0;34m(\u001b[0m\u001b[0;36m1\u001b[0m\u001b[0;34m,\u001b[0m\u001b[0;36m2\u001b[0m\u001b[0;34m,\u001b[0m\u001b[0;36m3\u001b[0m\u001b[0;34m)\u001b[0m\u001b[0;34m,\u001b[0m \u001b[0;34m(\u001b[0m\u001b[0;36m4\u001b[0m\u001b[0;34m,\u001b[0m\u001b[0;36m5\u001b[0m\u001b[0;34m,\u001b[0m\u001b[0;36m6\u001b[0m\u001b[0;34m)\u001b[0m\u001b[0;34m)\u001b[0m\u001b[0;34m)\u001b[0m \u001b[0;31m# should print 32\u001b[0m\u001b[0;34m\u001b[0m\u001b[0;34m\u001b[0m\u001b[0m\n\u001b[0;32m---> 14\u001b[0;31m \u001b[0mprint\u001b[0m\u001b[0;34m(\u001b[0m\u001b[0mdot\u001b[0m\u001b[0;34m(\u001b[0m\u001b[0;34m(\u001b[0m\u001b[0;36m1\u001b[0m\u001b[0;34m,\u001b[0m\u001b[0;36m2\u001b[0m\u001b[0;34m,\u001b[0m\u001b[0;36m3\u001b[0m\u001b[0;34m)\u001b[0m\u001b[0;34m,\u001b[0m \u001b[0;34m(\u001b[0m\u001b[0;36m4\u001b[0m\u001b[0;34m,\u001b[0m\u001b[0;36m5\u001b[0m\u001b[0;34m,\u001b[0m\u001b[0;36m6\u001b[0m\u001b[0;34m,\u001b[0m\u001b[0;36m7\u001b[0m\u001b[0;34m)\u001b[0m\u001b[0;34m)\u001b[0m\u001b[0;34m)\u001b[0m \u001b[0;31m# should raise error\u001b[0m\u001b[0;34m\u001b[0m\u001b[0;34m\u001b[0m\u001b[0m\n\u001b[0m",
            "\u001b[0;32m<ipython-input-76-66a170b81db3>\u001b[0m in \u001b[0;36mdot\u001b[0;34m(v1, v2)\u001b[0m\n\u001b[1;32m      9\u001b[0m \u001b[0;34m\u001b[0m\u001b[0m\n\u001b[1;32m     10\u001b[0m     \u001b[0;32melse\u001b[0m\u001b[0;34m:\u001b[0m\u001b[0;34m\u001b[0m\u001b[0;34m\u001b[0m\u001b[0m\n\u001b[0;32m---> 11\u001b[0;31m       \u001b[0;32mraise\u001b[0m \u001b[0mValueError\u001b[0m\u001b[0;34m(\u001b[0m\u001b[0;34m'Tuple length does not match'\u001b[0m\u001b[0;34m)\u001b[0m\u001b[0;34m\u001b[0m\u001b[0;34m\u001b[0m\u001b[0m\n\u001b[0m\u001b[1;32m     12\u001b[0m \u001b[0;34m\u001b[0m\u001b[0m\n\u001b[1;32m     13\u001b[0m \u001b[0mprint\u001b[0m\u001b[0;34m(\u001b[0m\u001b[0mdot\u001b[0m\u001b[0;34m(\u001b[0m\u001b[0;34m(\u001b[0m\u001b[0;36m1\u001b[0m\u001b[0;34m,\u001b[0m\u001b[0;36m2\u001b[0m\u001b[0;34m,\u001b[0m\u001b[0;36m3\u001b[0m\u001b[0;34m)\u001b[0m\u001b[0;34m,\u001b[0m \u001b[0;34m(\u001b[0m\u001b[0;36m4\u001b[0m\u001b[0;34m,\u001b[0m\u001b[0;36m5\u001b[0m\u001b[0;34m,\u001b[0m\u001b[0;36m6\u001b[0m\u001b[0;34m)\u001b[0m\u001b[0;34m)\u001b[0m\u001b[0;34m)\u001b[0m \u001b[0;31m# should print 32\u001b[0m\u001b[0;34m\u001b[0m\u001b[0;34m\u001b[0m\u001b[0m\n",
            "\u001b[0;31mValueError\u001b[0m: Tuple length does not match"
          ]
        }
      ]
    }
  ],
  "metadata": {
    "colab": {
      "provenance": [],
      "include_colab_link": true
    },
    "kernelspec": {
      "display_name": "venv",
      "language": "python",
      "name": "python3"
    },
    "language_info": {
      "codemirror_mode": {
        "name": "ipython",
        "version": 3
      },
      "file_extension": ".py",
      "mimetype": "text/x-python",
      "name": "python",
      "nbconvert_exporter": "python",
      "pygments_lexer": "ipython3",
      "version": "3.9.6"
    },
    "orig_nbformat": 4
  },
  "nbformat": 4,
  "nbformat_minor": 0
}
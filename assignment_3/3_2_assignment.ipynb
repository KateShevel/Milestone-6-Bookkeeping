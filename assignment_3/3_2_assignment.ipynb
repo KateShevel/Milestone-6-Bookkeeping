{
  "cells": [
    {
      "cell_type": "markdown",
      "metadata": {
        "id": "view-in-github",
        "colab_type": "text"
      },
      "source": [
        "<a href=\"https://colab.research.google.com/github/KateShevel/1_assignment/blob/main/3_2_assignment.ipynb\" target=\"_parent\"><img src=\"https://colab.research.google.com/assets/colab-badge.svg\" alt=\"Open In Colab\"/></a>"
      ]
    },
    {
      "cell_type": "code",
      "execution_count": 2,
      "metadata": {
        "tags": [
          "task_5"
        ],
        "id": "tIdkmRfF2ftj",
        "outputId": "39e2d8b0-9dca-4050-ac99-a27f2346883a",
        "colab": {
          "base_uri": "https://localhost:8080/"
        }
      },
      "outputs": [
        {
          "output_type": "stream",
          "name": "stdout",
          "text": [
            "Будь ласка, введіть ключ: 1\n",
            "Будь ласка, введіть повідомлення: Uif rvjdl cspxo gpy kvnqt pwfs uif mbaz eph.\n",
            "\n",
            "Результат: The quick brown fox jumps over the lay dog.\n"
          ]
        }
      ],
      "source": [
        "def decrypt(key, message):\n",
        "    decrypted_message = \"\"\n",
        "    for char in message:\n",
        "        if char.isalpha():\n",
        "            if char.isupper():\n",
        "                decrypted_char = chr((ord(char) - key - ord('A')) % 33 + ord('A'))\n",
        "            else:\n",
        "                decrypted_char = chr((ord(char) - key - ord('a')) % 33 + ord('a'))\n",
        "        else:\n",
        "            decrypted_char = char\n",
        "\n",
        "        decrypted_message += decrypted_char\n",
        "\n",
        "    return decrypted_message\n",
        "\n",
        "key = int(input(\"Будь ласка, введіть ключ: \"))\n",
        "message = input(\"Будь ласка, введіть повідомлення: \")\n",
        "\n",
        "result = decrypt(key, message)\n",
        "print(\"\\nРезультат:\", result)"
      ]
    }
  ],
  "metadata": {
    "colab": {
      "provenance": [],
      "toc_visible": true,
      "include_colab_link": true
    },
    "kernelspec": {
      "display_name": "venv",
      "language": "python",
      "name": "python3"
    },
    "language_info": {
      "codemirror_mode": {
        "name": "ipython",
        "version": 3
      },
      "file_extension": ".py",
      "mimetype": "text/x-python",
      "name": "python",
      "nbconvert_exporter": "python",
      "pygments_lexer": "ipython3",
      "version": "3.11.5"
    },
    "orig_nbformat": 4
  },
  "nbformat": 4,
  "nbformat_minor": 0
}